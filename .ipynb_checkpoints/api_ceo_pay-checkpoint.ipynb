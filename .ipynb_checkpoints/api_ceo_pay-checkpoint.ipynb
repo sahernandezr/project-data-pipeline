{
 "cells": [
  {
   "cell_type": "markdown",
   "metadata": {},
   "source": [
    "## Technical Requirements\n",
    "\n",
    "The technical requirements for this project are as follows:\n",
    "\n",
    "* You must construct a data pipeline with the majority of your code wrapped in functions.\n",
    "* Each data pipeline stage should be covered: acquisition, wrangling, analysis, and reporting.\n",
    "* You must demonstrate all the topics we covered in the chapter (functions, list comprehensions, string operations, and error handling) in your processing of the data.\n",
    "* There should be some data set that gets imported and some result that gets exported.\n",
    "* Your code should be saved in a Python executable file (.py), your data should be saved in a folder named data, and your results should be saved in a folder named output.\n",
    "* You should also include a README.md file that describes the steps you took and your thought process as you built your data pipeline.\n",
    "\n",
    "## Suggested Ways to Get Started\n",
    "\n",
    "* **Find a data set to process** - You can use a dataset you are familiar with like [Sharks](https://www.kaggle.com/teajay/global-shark-attacks/) or find another. A great place to start looking would be [Awesome Public Data Sets](https://github.com/awesomedata/awesome-public-datasets) and [Kaggle Data Sets](https://www.kaggle.com/datasets).\n",
    "* **Examine the data and come up with a deliverable** before diving in and applying any methods to it.\n",
    "* **Break the project down into different steps** - leverage the stages of the data pipeline covered in the pipelines lesson and answer the appropriate questions for each stage.\n",
    "* **Use the tools in your tool kit** - your knowledge of intermediate Python as well as some of the things you've learned in previous chapters. This is a great way to start tying everything you've learned together!\n",
    "* **Work through the lessons in class** & ask questions when you need to! Think about adding relevant code to your project each night, instead of, you know... _procrastinating_.\n",
    "* **Commit early, commit often**, don’t be afraid of doing something incorrectly because you can always roll back to a previous version.\n",
    "* **Consult documentation and resources provided** to better understand the tools you are using and how to accomplish what you want."
   ]
  },
  {
   "cell_type": "code",
   "execution_count": null,
   "metadata": {},
   "outputs": [],
   "source": [
    "import config #added to .gitignore to hide API key\n",
    "import requests\n",
    "import re\n",
    "import numpy\n",
    "import pandas\n",
    "from bs4 import BeautifulSoup\n",
    "import time "
   ]
  }
 ],
 "metadata": {
  "kernelspec": {
   "display_name": "Python 3",
   "language": "python",
   "name": "python3"
  },
  "language_info": {
   "codemirror_mode": {
    "name": "ipython",
    "version": 3
   },
   "file_extension": ".py",
   "mimetype": "text/x-python",
   "name": "python",
   "nbconvert_exporter": "python",
   "pygments_lexer": "ipython3",
   "version": "3.6.5"
  }
 },
 "nbformat": 4,
 "nbformat_minor": 2
}
